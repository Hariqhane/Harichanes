{
 "cells": [
  {
   "cell_type": "code",
   "execution_count": 1,
   "metadata": {},
   "outputs": [
    {
     "name": "stdout",
     "output_type": "stream",
     "text": [
      "0.09999598633445589\n"
     ]
    },
    {
     "name": "stderr",
     "output_type": "stream",
     "text": [
      "c:\\Users\\IK\\.conda\\envs\\PPytorch\\lib\\site-packages\\ipykernel_launcher.py:14: RuntimeWarning: divide by zero encountered in true_divide\n",
      "  \n",
      "c:\\Users\\IK\\.conda\\envs\\PPytorch\\lib\\site-packages\\ipykernel_launcher.py:12: RuntimeWarning: divide by zero encountered in true_divide\n",
      "  if sys.path[0] == \"\":\n",
      "c:\\Users\\IK\\.conda\\envs\\PPytorch\\lib\\site-packages\\ipykernel_launcher.py:16: RuntimeWarning: invalid value encountered in true_divide\n",
      "  \n"
     ]
    }
   ],
   "source": [
    "import numpy as np\n",
    "import scipy\n",
    "from scipy.interpolate import interp1d\n",
    "def I_to_y_SIS(I):\n",
    "    y1=(1+I)/(1-I)\n",
    "    y2=(1-I)/(1+I)\n",
    "    return y1,y2\n",
    "\n",
    "for I in np.linspace(0,1,20):\n",
    "    for dtt in np.linspace(0,0.2,20):\n",
    "        def miu_p_pm(y_l):\n",
    "            return 1/2+(y_l**2+2)/(2*y_l*(y_l**2+4)**0.5)\n",
    "        def miu_c_pm(y_l):\n",
    "            return 1/2-(y_l**2+2)/(2*y_l*(y_l**2+4)**0.5)\n",
    "        y_l=np.linspace(0,100,10000)\n",
    "        I=np.abs(miu_c_pm(y_l)/miu_p_pm(y_l))\n",
    "        I[-1]=0\n",
    "        f_I_to_y_PM=scipy.interpolate.interp1d(I,y_l,kind='linear')\n",
    "\n",
    "Z_L=0\n",
    "I=0.1\n",
    "dtt=0.1\n",
    "y_l=f_I_to_y_PM(I)\n",
    "miu_pp=miu_p_pm(y_l)\n",
    "miu_cc=miu_c_pm(y_l)\n",
    "I_tt=np.abs(miu_cc)/np.abs(miu_pp)\n",
    "print(I_tt)"
   ]
  }
 ],
 "metadata": {
  "kernelspec": {
   "display_name": "PPytorch",
   "language": "python",
   "name": "python3"
  },
  "language_info": {
   "codemirror_mode": {
    "name": "ipython",
    "version": 3
   },
   "file_extension": ".py",
   "mimetype": "text/x-python",
   "name": "python",
   "nbconvert_exporter": "python",
   "pygments_lexer": "ipython3",
   "version": "3.7.16"
  }
 },
 "nbformat": 4,
 "nbformat_minor": 2
}
