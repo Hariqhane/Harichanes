{
 "cells": [
  {
   "cell_type": "code",
   "execution_count": 1,
   "metadata": {},
   "outputs": [
    {
     "name": "stdout",
     "output_type": "stream",
     "text": [
      "Alice\n",
      "30\n",
      "报错啦!\n",
      "150\n"
     ]
    }
   ],
   "source": [
    "class People:\n",
    "    def __init__(self, name, age, weight):\n",
    "        self.name = name\n",
    "        self.age = age\n",
    "        self.__weight = weight\n",
    "p = People(\"Alice\", 30, 150)\n",
    "print(p.name)  # Output: Alice\n",
    "print(p.age)   # Output: 30\n",
    "try:\n",
    "    print(p.__weight)  # This line will raise an AttributeError\n",
    "except:\n",
    "    print(\"报错啦!\")\n",
    "finally:\n",
    "    print(p._People__weight)"
   ]
  }
 ],
 "metadata": {
  "kernelspec": {
   "display_name": "PPytorch",
   "language": "python",
   "name": "python3"
  },
  "language_info": {
   "codemirror_mode": {
    "name": "ipython",
    "version": 3
   },
   "file_extension": ".py",
   "mimetype": "text/x-python",
   "name": "python",
   "nbconvert_exporter": "python",
   "pygments_lexer": "ipython3",
   "version": "3.7.16"
  }
 },
 "nbformat": 4,
 "nbformat_minor": 2
}
